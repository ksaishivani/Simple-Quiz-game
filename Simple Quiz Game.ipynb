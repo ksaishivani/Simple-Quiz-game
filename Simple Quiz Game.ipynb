{
  "nbformat": 4,
  "nbformat_minor": 0,
  "metadata": {
    "colab": {
      "provenance": [],
      "authorship_tag": "ABX9TyPBuApkQIFFjlZwtRljuu1S",
      "include_colab_link": true
    },
    "kernelspec": {
      "name": "python3",
      "display_name": "Python 3"
    },
    "language_info": {
      "name": "python"
    }
  },
  "cells": [
    {
      "cell_type": "markdown",
      "metadata": {
        "id": "view-in-github",
        "colab_type": "text"
      },
      "source": [
        "<a href=\"https://colab.research.google.com/github/ksaishivani/Simple-Quiz-game/blob/main/Simple%20Quiz%20Game.ipynb\" target=\"_parent\"><img src=\"https://colab.research.google.com/assets/colab-badge.svg\" alt=\"Open In Colab\"/></a>"
      ]
    },
    {
      "cell_type": "code",
      "execution_count": 1,
      "metadata": {
        "id": "NBlIdEbmHNpI",
        "outputId": "d2f7b23d-0f61-4247-ef15-002ea0872fe1",
        "colab": {
          "base_uri": "https://localhost:8080/"
        }
      },
      "outputs": [
        {
          "output_type": "stream",
          "name": "stdout",
          "text": [
            "Capital of India?  Delhi\n",
            "2 + 2 = ?  4\n",
            "programming language of AI?  Python\n",
            "you got 3/3 correct.\n"
          ]
        }
      ],
      "source": [
        "questions = {\n",
        "                   \"Capital of India?\": \"Delhi\",\n",
        "                   \"2 + 2 = ?\": \"4\",\n",
        "                    \"programming language of AI?\": \"Python\"}\n",
        "\n",
        "score = 0\n",
        "for q, ans in questions.items():\n",
        " user_ans = input(q + \"  \")\n",
        " if user_ans.strip().lower() == ans.lower():\n",
        "  score += 1\n",
        "print(f\"you got {score}/{len(questions)} correct.\")"
      ]
    }
  ]
}